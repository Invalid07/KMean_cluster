{
 "cells": [
  {
   "cell_type": "code",
   "execution_count": 113,
   "id": "173fd341",
   "metadata": {},
   "outputs": [],
   "source": [
    "import pandas as pd \n",
    "import numpy as np\n",
    "import seaborn as sns\n",
    "import matplotlib.pyplot as plt\n"
   ]
  },
  {
   "cell_type": "code",
   "execution_count": 114,
   "id": "4cce7f8f",
   "metadata": {},
   "outputs": [],
   "source": [
    "df=pd.read_csv(r\"C:\\Users\\Vikas\\jupyter book\\ex_files\\mall_customers.csv\")"
   ]
  },
  {
   "cell_type": "code",
   "execution_count": 36,
   "id": "6e624ed6",
   "metadata": {},
   "outputs": [
    {
     "data": {
      "text/html": [
       "<div>\n",
       "<style scoped>\n",
       "    .dataframe tbody tr th:only-of-type {\n",
       "        vertical-align: middle;\n",
       "    }\n",
       "\n",
       "    .dataframe tbody tr th {\n",
       "        vertical-align: top;\n",
       "    }\n",
       "\n",
       "    .dataframe thead th {\n",
       "        text-align: right;\n",
       "    }\n",
       "</style>\n",
       "<table border=\"1\" class=\"dataframe\">\n",
       "  <thead>\n",
       "    <tr style=\"text-align: right;\">\n",
       "      <th></th>\n",
       "      <th>customer_id</th>\n",
       "      <th>gender</th>\n",
       "      <th>age</th>\n",
       "      <th>annual_income</th>\n",
       "      <th>spending_score</th>\n",
       "    </tr>\n",
       "  </thead>\n",
       "  <tbody>\n",
       "    <tr>\n",
       "      <th>0</th>\n",
       "      <td>1</td>\n",
       "      <td>Male</td>\n",
       "      <td>19</td>\n",
       "      <td>15</td>\n",
       "      <td>39</td>\n",
       "    </tr>\n",
       "    <tr>\n",
       "      <th>1</th>\n",
       "      <td>2</td>\n",
       "      <td>Male</td>\n",
       "      <td>21</td>\n",
       "      <td>15</td>\n",
       "      <td>81</td>\n",
       "    </tr>\n",
       "    <tr>\n",
       "      <th>2</th>\n",
       "      <td>3</td>\n",
       "      <td>Female</td>\n",
       "      <td>20</td>\n",
       "      <td>16</td>\n",
       "      <td>6</td>\n",
       "    </tr>\n",
       "    <tr>\n",
       "      <th>3</th>\n",
       "      <td>4</td>\n",
       "      <td>Female</td>\n",
       "      <td>23</td>\n",
       "      <td>16</td>\n",
       "      <td>77</td>\n",
       "    </tr>\n",
       "    <tr>\n",
       "      <th>4</th>\n",
       "      <td>5</td>\n",
       "      <td>Female</td>\n",
       "      <td>31</td>\n",
       "      <td>17</td>\n",
       "      <td>40</td>\n",
       "    </tr>\n",
       "    <tr>\n",
       "      <th>...</th>\n",
       "      <td>...</td>\n",
       "      <td>...</td>\n",
       "      <td>...</td>\n",
       "      <td>...</td>\n",
       "      <td>...</td>\n",
       "    </tr>\n",
       "    <tr>\n",
       "      <th>195</th>\n",
       "      <td>196</td>\n",
       "      <td>Female</td>\n",
       "      <td>35</td>\n",
       "      <td>120</td>\n",
       "      <td>79</td>\n",
       "    </tr>\n",
       "    <tr>\n",
       "      <th>196</th>\n",
       "      <td>197</td>\n",
       "      <td>Female</td>\n",
       "      <td>45</td>\n",
       "      <td>126</td>\n",
       "      <td>28</td>\n",
       "    </tr>\n",
       "    <tr>\n",
       "      <th>197</th>\n",
       "      <td>198</td>\n",
       "      <td>Male</td>\n",
       "      <td>32</td>\n",
       "      <td>126</td>\n",
       "      <td>74</td>\n",
       "    </tr>\n",
       "    <tr>\n",
       "      <th>198</th>\n",
       "      <td>199</td>\n",
       "      <td>Male</td>\n",
       "      <td>32</td>\n",
       "      <td>137</td>\n",
       "      <td>18</td>\n",
       "    </tr>\n",
       "    <tr>\n",
       "      <th>199</th>\n",
       "      <td>200</td>\n",
       "      <td>Male</td>\n",
       "      <td>30</td>\n",
       "      <td>137</td>\n",
       "      <td>83</td>\n",
       "    </tr>\n",
       "  </tbody>\n",
       "</table>\n",
       "<p>200 rows × 5 columns</p>\n",
       "</div>"
      ],
      "text/plain": [
       "     customer_id  gender  age  annual_income  spending_score\n",
       "0              1    Male   19             15              39\n",
       "1              2    Male   21             15              81\n",
       "2              3  Female   20             16               6\n",
       "3              4  Female   23             16              77\n",
       "4              5  Female   31             17              40\n",
       "..           ...     ...  ...            ...             ...\n",
       "195          196  Female   35            120              79\n",
       "196          197  Female   45            126              28\n",
       "197          198    Male   32            126              74\n",
       "198          199    Male   32            137              18\n",
       "199          200    Male   30            137              83\n",
       "\n",
       "[200 rows x 5 columns]"
      ]
     },
     "execution_count": 36,
     "metadata": {},
     "output_type": "execute_result"
    }
   ],
   "source": [
    "df"
   ]
  },
  {
   "cell_type": "code",
   "execution_count": 37,
   "id": "3e366b2c",
   "metadata": {},
   "outputs": [
    {
     "name": "stdout",
     "output_type": "stream",
     "text": [
      "<class 'pandas.core.frame.DataFrame'>\n",
      "RangeIndex: 200 entries, 0 to 199\n",
      "Data columns (total 5 columns):\n",
      " #   Column          Non-Null Count  Dtype \n",
      "---  ------          --------------  ----- \n",
      " 0   customer_id     200 non-null    int64 \n",
      " 1   gender          200 non-null    object\n",
      " 2   age             200 non-null    int64 \n",
      " 3   annual_income   200 non-null    int64 \n",
      " 4   spending_score  200 non-null    int64 \n",
      "dtypes: int64(4), object(1)\n",
      "memory usage: 7.9+ KB\n"
     ]
    }
   ],
   "source": [
    "df.info()"
   ]
  },
  {
   "cell_type": "code",
   "execution_count": 38,
   "id": "9b6dec11",
   "metadata": {},
   "outputs": [
    {
     "data": {
      "text/html": [
       "<div>\n",
       "<style scoped>\n",
       "    .dataframe tbody tr th:only-of-type {\n",
       "        vertical-align: middle;\n",
       "    }\n",
       "\n",
       "    .dataframe tbody tr th {\n",
       "        vertical-align: top;\n",
       "    }\n",
       "\n",
       "    .dataframe thead th {\n",
       "        text-align: right;\n",
       "    }\n",
       "</style>\n",
       "<table border=\"1\" class=\"dataframe\">\n",
       "  <thead>\n",
       "    <tr style=\"text-align: right;\">\n",
       "      <th></th>\n",
       "      <th>customer_id</th>\n",
       "      <th>gender</th>\n",
       "      <th>age</th>\n",
       "      <th>annual_income</th>\n",
       "      <th>spending_score</th>\n",
       "    </tr>\n",
       "  </thead>\n",
       "  <tbody>\n",
       "    <tr>\n",
       "      <th>count</th>\n",
       "      <td>200.000000</td>\n",
       "      <td>200</td>\n",
       "      <td>200.000000</td>\n",
       "      <td>200.000000</td>\n",
       "      <td>200.000000</td>\n",
       "    </tr>\n",
       "    <tr>\n",
       "      <th>unique</th>\n",
       "      <td>NaN</td>\n",
       "      <td>2</td>\n",
       "      <td>NaN</td>\n",
       "      <td>NaN</td>\n",
       "      <td>NaN</td>\n",
       "    </tr>\n",
       "    <tr>\n",
       "      <th>top</th>\n",
       "      <td>NaN</td>\n",
       "      <td>Female</td>\n",
       "      <td>NaN</td>\n",
       "      <td>NaN</td>\n",
       "      <td>NaN</td>\n",
       "    </tr>\n",
       "    <tr>\n",
       "      <th>freq</th>\n",
       "      <td>NaN</td>\n",
       "      <td>112</td>\n",
       "      <td>NaN</td>\n",
       "      <td>NaN</td>\n",
       "      <td>NaN</td>\n",
       "    </tr>\n",
       "    <tr>\n",
       "      <th>mean</th>\n",
       "      <td>100.500000</td>\n",
       "      <td>NaN</td>\n",
       "      <td>38.850000</td>\n",
       "      <td>60.560000</td>\n",
       "      <td>50.200000</td>\n",
       "    </tr>\n",
       "    <tr>\n",
       "      <th>std</th>\n",
       "      <td>57.879185</td>\n",
       "      <td>NaN</td>\n",
       "      <td>13.969007</td>\n",
       "      <td>26.264721</td>\n",
       "      <td>25.823522</td>\n",
       "    </tr>\n",
       "    <tr>\n",
       "      <th>min</th>\n",
       "      <td>1.000000</td>\n",
       "      <td>NaN</td>\n",
       "      <td>18.000000</td>\n",
       "      <td>15.000000</td>\n",
       "      <td>1.000000</td>\n",
       "    </tr>\n",
       "    <tr>\n",
       "      <th>25%</th>\n",
       "      <td>50.750000</td>\n",
       "      <td>NaN</td>\n",
       "      <td>28.750000</td>\n",
       "      <td>41.500000</td>\n",
       "      <td>34.750000</td>\n",
       "    </tr>\n",
       "    <tr>\n",
       "      <th>50%</th>\n",
       "      <td>100.500000</td>\n",
       "      <td>NaN</td>\n",
       "      <td>36.000000</td>\n",
       "      <td>61.500000</td>\n",
       "      <td>50.000000</td>\n",
       "    </tr>\n",
       "    <tr>\n",
       "      <th>75%</th>\n",
       "      <td>150.250000</td>\n",
       "      <td>NaN</td>\n",
       "      <td>49.000000</td>\n",
       "      <td>78.000000</td>\n",
       "      <td>73.000000</td>\n",
       "    </tr>\n",
       "    <tr>\n",
       "      <th>max</th>\n",
       "      <td>200.000000</td>\n",
       "      <td>NaN</td>\n",
       "      <td>70.000000</td>\n",
       "      <td>137.000000</td>\n",
       "      <td>99.000000</td>\n",
       "    </tr>\n",
       "  </tbody>\n",
       "</table>\n",
       "</div>"
      ],
      "text/plain": [
       "        customer_id  gender         age  annual_income  spending_score\n",
       "count    200.000000     200  200.000000     200.000000      200.000000\n",
       "unique          NaN       2         NaN            NaN             NaN\n",
       "top             NaN  Female         NaN            NaN             NaN\n",
       "freq            NaN     112         NaN            NaN             NaN\n",
       "mean     100.500000     NaN   38.850000      60.560000       50.200000\n",
       "std       57.879185     NaN   13.969007      26.264721       25.823522\n",
       "min        1.000000     NaN   18.000000      15.000000        1.000000\n",
       "25%       50.750000     NaN   28.750000      41.500000       34.750000\n",
       "50%      100.500000     NaN   36.000000      61.500000       50.000000\n",
       "75%      150.250000     NaN   49.000000      78.000000       73.000000\n",
       "max      200.000000     NaN   70.000000     137.000000       99.000000"
      ]
     },
     "execution_count": 38,
     "metadata": {},
     "output_type": "execute_result"
    }
   ],
   "source": [
    "df.describe(include=\"all\")"
   ]
  },
  {
   "cell_type": "code",
   "execution_count": 39,
   "id": "fd8f94e3",
   "metadata": {},
   "outputs": [
    {
     "data": {
      "text/plain": [
       "customer_id       0\n",
       "gender            0\n",
       "age               0\n",
       "annual_income     0\n",
       "spending_score    0\n",
       "dtype: int64"
      ]
     },
     "execution_count": 39,
     "metadata": {},
     "output_type": "execute_result"
    }
   ],
   "source": [
    "df.isna().sum()"
   ]
  },
  {
   "cell_type": "code",
   "execution_count": 40,
   "id": "7107a49e",
   "metadata": {},
   "outputs": [
    {
     "data": {
      "text/plain": [
       "customer_id       0\n",
       "gender            0\n",
       "age               0\n",
       "annual_income     0\n",
       "spending_score    0\n",
       "dtype: int64"
      ]
     },
     "execution_count": 40,
     "metadata": {},
     "output_type": "execute_result"
    }
   ],
   "source": [
    "df.isnull().sum()"
   ]
  },
  {
   "cell_type": "code",
   "execution_count": 41,
   "id": "0280a5cd",
   "metadata": {},
   "outputs": [
    {
     "data": {
      "text/plain": [
       "0"
      ]
     },
     "execution_count": 41,
     "metadata": {},
     "output_type": "execute_result"
    }
   ],
   "source": [
    "df.duplicated().sum()"
   ]
  },
  {
   "cell_type": "code",
   "execution_count": 42,
   "id": "cc826f57",
   "metadata": {},
   "outputs": [],
   "source": [
    "# outlier "
   ]
  },
  {
   "cell_type": "code",
   "execution_count": 43,
   "id": "32b59dcb",
   "metadata": {},
   "outputs": [
    {
     "data": {
      "image/png": "[encoded data removed]",
      "text/plain": [
       "<Figure size 640x480 with 1 Axes>"
      ]
     },
     "metadata": {},
     "output_type": "display_data"
    },
    {
     "data": {
      "image/png": "[encoded data removed]",
      "text/plain": [
       "<Figure size 640x480 with 1 Axes>"
      ]
     },
     "metadata": {},
     "output_type": "display_data"
    },
    {
     "data": {
      "image/png": "[encoded data removed]",
      "text/plain": [
       "<Figure size 640x480 with 1 Axes>"
      ]
     },
     "metadata": {},
     "output_type": "display_data"
    },
    {
     "data": {
      "image/png": "[encoded data removed]",
      "text/plain": [
       "<Figure size 640x480 with 1 Axes>"
      ]
     },
     "metadata": {},
     "output_type": "display_data"
    }
   ],
   "source": [
    "for i in df.columns:\n",
    "    if df[i].dtypes!=\"object\":\n",
    "        plt.boxplot(df[i])\n",
    "        plt.xlabel(i)\n",
    "        plt.ylabel(\"count\")\n",
    "        plt.show()"
   ]
  },
  {
   "cell_type": "code",
   "execution_count": null,
   "id": "29ce3e97",
   "metadata": {},
   "outputs": [],
   "source": [
    "q1=df[\"annual_income\"].quantile(0.25)\n",
    "q3=df[\"annual_income\"].quantile(0.75)\n",
    "iqr=q3-q1\n",
    "uu=q3+1.5*iqr\n",
    "ll=q1-1.5*iqr\n",
    "df=df[(df[\"annual_income\"]<=uu) & (df[\"annual_income\"]>=ll)]"
   ]
  },
  {
   "cell_type": "code",
   "execution_count": 44,
   "id": "e40301d4",
   "metadata": {},
   "outputs": [
    {
     "data": {
      "image/png": "[encoded data removed]",
      "text/plain": [
       "<Figure size 640x480 with 1 Axes>"
      ]
     },
     "metadata": {},
     "output_type": "display_data"
    }
   ],
   "source": [
    "plt.boxplot(df[\"annual_income\"])\n",
    "plt.xlabel(\"annual_income\")\n",
    "plt.ylabel(\"count\")\n",
    "plt.show()"
   ]
  },
  {
   "cell_type": "code",
   "execution_count": 54,
   "id": "ca28d163",
   "metadata": {},
   "outputs": [],
   "source": [
    "# labelEncoder"
   ]
  },
  {
   "cell_type": "code",
   "execution_count": 55,
   "id": "4a3a161b",
   "metadata": {},
   "outputs": [],
   "source": [
    "from sklearn.preprocessing import LabelEncoder"
   ]
  },
  {
   "cell_type": "code",
   "execution_count": 57,
   "id": "92c5123f",
   "metadata": {},
   "outputs": [],
   "source": [
    "l=LabelEncoder()"
   ]
  },
  {
   "cell_type": "code",
   "execution_count": 115,
   "id": "f1e7fba0",
   "metadata": {},
   "outputs": [],
   "source": [
    "for i in df.columns:\n",
    "    if df[i].dtypes==\"object\":\n",
    "        df[i]=l.fit_transform(df[i])"
   ]
  },
  {
   "cell_type": "code",
   "execution_count": 116,
   "id": "a4de2ac5",
   "metadata": {},
   "outputs": [
    {
     "data": {
      "text/html": [
       "<div>\n",
       "<style scoped>\n",
       "    .dataframe tbody tr th:only-of-type {\n",
       "        vertical-align: middle;\n",
       "    }\n",
       "\n",
       "    .dataframe tbody tr th {\n",
       "        vertical-align: top;\n",
       "    }\n",
       "\n",
       "    .dataframe thead th {\n",
       "        text-align: right;\n",
       "    }\n",
       "</style>\n",
       "<table border=\"1\" class=\"dataframe\">\n",
       "  <thead>\n",
       "    <tr style=\"text-align: right;\">\n",
       "      <th></th>\n",
       "      <th>customer_id</th>\n",
       "      <th>gender</th>\n",
       "      <th>age</th>\n",
       "      <th>annual_income</th>\n",
       "      <th>spending_score</th>\n",
       "    </tr>\n",
       "  </thead>\n",
       "  <tbody>\n",
       "    <tr>\n",
       "      <th>0</th>\n",
       "      <td>1</td>\n",
       "      <td>1</td>\n",
       "      <td>19</td>\n",
       "      <td>15</td>\n",
       "      <td>39</td>\n",
       "    </tr>\n",
       "    <tr>\n",
       "      <th>1</th>\n",
       "      <td>2</td>\n",
       "      <td>1</td>\n",
       "      <td>21</td>\n",
       "      <td>15</td>\n",
       "      <td>81</td>\n",
       "    </tr>\n",
       "    <tr>\n",
       "      <th>2</th>\n",
       "      <td>3</td>\n",
       "      <td>0</td>\n",
       "      <td>20</td>\n",
       "      <td>16</td>\n",
       "      <td>6</td>\n",
       "    </tr>\n",
       "    <tr>\n",
       "      <th>3</th>\n",
       "      <td>4</td>\n",
       "      <td>0</td>\n",
       "      <td>23</td>\n",
       "      <td>16</td>\n",
       "      <td>77</td>\n",
       "    </tr>\n",
       "    <tr>\n",
       "      <th>4</th>\n",
       "      <td>5</td>\n",
       "      <td>0</td>\n",
       "      <td>31</td>\n",
       "      <td>17</td>\n",
       "      <td>40</td>\n",
       "    </tr>\n",
       "    <tr>\n",
       "      <th>...</th>\n",
       "      <td>...</td>\n",
       "      <td>...</td>\n",
       "      <td>...</td>\n",
       "      <td>...</td>\n",
       "      <td>...</td>\n",
       "    </tr>\n",
       "    <tr>\n",
       "      <th>195</th>\n",
       "      <td>196</td>\n",
       "      <td>0</td>\n",
       "      <td>35</td>\n",
       "      <td>120</td>\n",
       "      <td>79</td>\n",
       "    </tr>\n",
       "    <tr>\n",
       "      <th>196</th>\n",
       "      <td>197</td>\n",
       "      <td>0</td>\n",
       "      <td>45</td>\n",
       "      <td>126</td>\n",
       "      <td>28</td>\n",
       "    </tr>\n",
       "    <tr>\n",
       "      <th>197</th>\n",
       "      <td>198</td>\n",
       "      <td>1</td>\n",
       "      <td>32</td>\n",
       "      <td>126</td>\n",
       "      <td>74</td>\n",
       "    </tr>\n",
       "    <tr>\n",
       "      <th>198</th>\n",
       "      <td>199</td>\n",
       "      <td>1</td>\n",
       "      <td>32</td>\n",
       "      <td>137</td>\n",
       "      <td>18</td>\n",
       "    </tr>\n",
       "    <tr>\n",
       "      <th>199</th>\n",
       "      <td>200</td>\n",
       "      <td>1</td>\n",
       "      <td>30</td>\n",
       "      <td>137</td>\n",
       "      <td>83</td>\n",
       "    </tr>\n",
       "  </tbody>\n",
       "</table>\n",
       "<p>200 rows × 5 columns</p>\n",
       "</div>"
      ],
      "text/plain": [
       "     customer_id  gender  age  annual_income  spending_score\n",
       "0              1       1   19             15              39\n",
       "1              2       1   21             15              81\n",
       "2              3       0   20             16               6\n",
       "3              4       0   23             16              77\n",
       "4              5       0   31             17              40\n",
       "..           ...     ...  ...            ...             ...\n",
       "195          196       0   35            120              79\n",
       "196          197       0   45            126              28\n",
       "197          198       1   32            126              74\n",
       "198          199       1   32            137              18\n",
       "199          200       1   30            137              83\n",
       "\n",
       "[200 rows x 5 columns]"
      ]
     },
     "execution_count": 116,
     "metadata": {},
     "output_type": "execute_result"
    }
   ],
   "source": [
    "df"
   ]
  },
  {
   "cell_type": "code",
   "execution_count": 110,
   "id": "6f05d5c8",
   "metadata": {},
   "outputs": [],
   "source": [
    "# visualization"
   ]
  },
  {
   "cell_type": "code",
   "execution_count": 160,
   "id": "ffd7b4dc",
   "metadata": {},
   "outputs": [
    {
     "name": "stderr",
     "output_type": "stream",
     "text": [
      "No artists with labels found to put in legend.  Note that artists whose label start with an underscore are ignored when legend() is called with no argument.\n"
     ]
    },
    {
     "data": {
      "text/plain": [
       "Text(0.5, 1.0, ' annual_income vs age')"
      ]
     },
     "execution_count": 160,
     "metadata": {},
     "output_type": "execute_result"
    },
    {
     "data": {
      "image/png": "[encoded data removed]",
      "text/plain": [
       "<Figure size 640x480 with 1 Axes>"
      ]
     },
     "metadata": {},
     "output_type": "display_data"
    }
   ],
   "source": [
    "ax=sns.scatterplot(data=df,x=df[\"age\"],y=df[\"annual_income\"],s=150,color=\"green\")\n",
    "plt.legend()\n",
    "plt.title(\" annual_income vs age\")"
   ]
  },
  {
   "cell_type": "code",
   "execution_count": 158,
   "id": "903c6c7a",
   "metadata": {},
   "outputs": [
    {
     "name": "stderr",
     "output_type": "stream",
     "text": [
      "No artists with labels found to put in legend.  Note that artists whose label start with an underscore are ignored when legend() is called with no argument.\n"
     ]
    },
    {
     "data": {
      "text/plain": [
       "Text(0.5, 1.0, 'annual_income vs spending_score')"
      ]
     },
     "execution_count": 158,
     "metadata": {},
     "output_type": "execute_result"
    },
    {
     "data": {
      "image/png": "[encoded data removed]",
      "text/plain": [
       "<Figure size 640x480 with 1 Axes>"
      ]
     },
     "metadata": {},
     "output_type": "display_data"
    }
   ],
   "source": [
    "sns.scatterplot(data=df,x=df[\"annual_income\"],y=df[\"spending_score\"],s=150,color=\"red\")\n",
    "plt.legend()\n",
    "plt.title(\"annual_income vs spending_score\")"
   ]
  },
  {
   "cell_type": "code",
   "execution_count": 159,
   "id": "21892693",
   "metadata": {},
   "outputs": [
    {
     "name": "stderr",
     "output_type": "stream",
     "text": [
      "No artists with labels found to put in legend.  Note that artists whose label start with an underscore are ignored when legend() is called with no argument.\n"
     ]
    },
    {
     "data": {
      "text/plain": [
       "Text(0.5, 1.0, 'age vs spending_score')"
      ]
     },
     "execution_count": 159,
     "metadata": {},
     "output_type": "execute_result"
    },
    {
     "data": {
      "image/png": "[encoded data removed]",
      "text/plain": [
       "<Figure size 640x480 with 1 Axes>"
      ]
     },
     "metadata": {},
     "output_type": "display_data"
    }
   ],
   "source": [
    "sns.scatterplot(data=df,x=df[\"age\"],y=df[\"spending_score\"],s=150,color=\"orange\")\n",
    "plt.legend()\n",
    "plt.title(\"age vs spending_score\")"
   ]
  },
  {
   "cell_type": "code",
   "execution_count": null,
   "id": "dfbd6b3e",
   "metadata": {},
   "outputs": [],
   "source": []
  },
  {
   "cell_type": "code",
   "execution_count": null,
   "id": "d9588271",
   "metadata": {},
   "outputs": [],
   "source": []
  },
  {
   "cell_type": "code",
   "execution_count": 62,
   "id": "21823f54",
   "metadata": {},
   "outputs": [],
   "source": [
    "n_df=df.copy()"
   ]
  },
  {
   "cell_type": "code",
   "execution_count": 63,
   "id": "1988c22e",
   "metadata": {},
   "outputs": [
    {
     "data": {
      "text/html": [
       "<div>\n",
       "<style scoped>\n",
       "    .dataframe tbody tr th:only-of-type {\n",
       "        vertical-align: middle;\n",
       "    }\n",
       "\n",
       "    .dataframe tbody tr th {\n",
       "        vertical-align: top;\n",
       "    }\n",
       "\n",
       "    .dataframe thead th {\n",
       "        text-align: right;\n",
       "    }\n",
       "</style>\n",
       "<table border=\"1\" class=\"dataframe\">\n",
       "  <thead>\n",
       "    <tr style=\"text-align: right;\">\n",
       "      <th></th>\n",
       "      <th>customer_id</th>\n",
       "      <th>gender</th>\n",
       "      <th>age</th>\n",
       "      <th>annual_income</th>\n",
       "      <th>spending_score</th>\n",
       "    </tr>\n",
       "  </thead>\n",
       "  <tbody>\n",
       "    <tr>\n",
       "      <th>0</th>\n",
       "      <td>1</td>\n",
       "      <td>1</td>\n",
       "      <td>19</td>\n",
       "      <td>15</td>\n",
       "      <td>39</td>\n",
       "    </tr>\n",
       "    <tr>\n",
       "      <th>1</th>\n",
       "      <td>2</td>\n",
       "      <td>1</td>\n",
       "      <td>21</td>\n",
       "      <td>15</td>\n",
       "      <td>81</td>\n",
       "    </tr>\n",
       "    <tr>\n",
       "      <th>2</th>\n",
       "      <td>3</td>\n",
       "      <td>0</td>\n",
       "      <td>20</td>\n",
       "      <td>16</td>\n",
       "      <td>6</td>\n",
       "    </tr>\n",
       "    <tr>\n",
       "      <th>3</th>\n",
       "      <td>4</td>\n",
       "      <td>0</td>\n",
       "      <td>23</td>\n",
       "      <td>16</td>\n",
       "      <td>77</td>\n",
       "    </tr>\n",
       "    <tr>\n",
       "      <th>4</th>\n",
       "      <td>5</td>\n",
       "      <td>0</td>\n",
       "      <td>31</td>\n",
       "      <td>17</td>\n",
       "      <td>40</td>\n",
       "    </tr>\n",
       "    <tr>\n",
       "      <th>...</th>\n",
       "      <td>...</td>\n",
       "      <td>...</td>\n",
       "      <td>...</td>\n",
       "      <td>...</td>\n",
       "      <td>...</td>\n",
       "    </tr>\n",
       "    <tr>\n",
       "      <th>195</th>\n",
       "      <td>196</td>\n",
       "      <td>0</td>\n",
       "      <td>35</td>\n",
       "      <td>120</td>\n",
       "      <td>79</td>\n",
       "    </tr>\n",
       "    <tr>\n",
       "      <th>196</th>\n",
       "      <td>197</td>\n",
       "      <td>0</td>\n",
       "      <td>45</td>\n",
       "      <td>126</td>\n",
       "      <td>28</td>\n",
       "    </tr>\n",
       "    <tr>\n",
       "      <th>197</th>\n",
       "      <td>198</td>\n",
       "      <td>1</td>\n",
       "      <td>32</td>\n",
       "      <td>126</td>\n",
       "      <td>74</td>\n",
       "    </tr>\n",
       "    <tr>\n",
       "      <th>198</th>\n",
       "      <td>199</td>\n",
       "      <td>1</td>\n",
       "      <td>32</td>\n",
       "      <td>137</td>\n",
       "      <td>18</td>\n",
       "    </tr>\n",
       "    <tr>\n",
       "      <th>199</th>\n",
       "      <td>200</td>\n",
       "      <td>1</td>\n",
       "      <td>30</td>\n",
       "      <td>137</td>\n",
       "      <td>83</td>\n",
       "    </tr>\n",
       "  </tbody>\n",
       "</table>\n",
       "<p>200 rows × 5 columns</p>\n",
       "</div>"
      ],
      "text/plain": [
       "     customer_id  gender  age  annual_income  spending_score\n",
       "0              1       1   19             15              39\n",
       "1              2       1   21             15              81\n",
       "2              3       0   20             16               6\n",
       "3              4       0   23             16              77\n",
       "4              5       0   31             17              40\n",
       "..           ...     ...  ...            ...             ...\n",
       "195          196       0   35            120              79\n",
       "196          197       0   45            126              28\n",
       "197          198       1   32            126              74\n",
       "198          199       1   32            137              18\n",
       "199          200       1   30            137              83\n",
       "\n",
       "[200 rows x 5 columns]"
      ]
     },
     "execution_count": 63,
     "metadata": {},
     "output_type": "execute_result"
    }
   ],
   "source": [
    "n_df"
   ]
  },
  {
   "cell_type": "code",
   "execution_count": 64,
   "id": "100451f3",
   "metadata": {},
   "outputs": [],
   "source": [
    "# standardization"
   ]
  },
  {
   "cell_type": "code",
   "execution_count": 65,
   "id": "0ce3f6fe",
   "metadata": {},
   "outputs": [],
   "source": [
    "from sklearn.preprocessing import StandardScaler"
   ]
  },
  {
   "cell_type": "code",
   "execution_count": 66,
   "id": "52640eea",
   "metadata": {},
   "outputs": [],
   "source": [
    "s=StandardScaler()"
   ]
  },
  {
   "cell_type": "code",
   "execution_count": 67,
   "id": "4b65967e",
   "metadata": {},
   "outputs": [],
   "source": [
    "s_s=s.fit_transform(n_df)"
   ]
  },
  {
   "cell_type": "code",
   "execution_count": 68,
   "id": "e994d308",
   "metadata": {},
   "outputs": [
    {
     "data": {
      "text/plain": [
       "array([[-1.7234121 ,  1.12815215, -1.42456879, -1.73899919, -0.43480148],\n",
       "       [-1.70609137,  1.12815215, -1.28103541, -1.73899919,  1.19570407],\n",
       "       [-1.68877065, -0.88640526, -1.3528021 , -1.70082976, -1.71591298],\n",
       "       [-1.67144992, -0.88640526, -1.13750203, -1.70082976,  1.04041783],\n",
       "       [-1.6541292 , -0.88640526, -0.56336851, -1.66266033, -0.39597992],\n",
       "       [-1.63680847, -0.88640526, -1.20926872, -1.66266033,  1.00159627],\n",
       "       [-1.61948775, -0.88640526, -0.27630176, -1.62449091, -1.71591298],\n",
       "       [-1.60216702, -0.88640526, -1.13750203, -1.62449091,  1.70038436],\n",
       "       [-1.5848463 ,  1.12815215,  1.80493225, -1.58632148, -1.83237767],\n",
       "       [-1.56752558, -0.88640526, -0.6351352 , -1.58632148,  0.84631002],\n",
       "       [-1.55020485,  1.12815215,  2.02023231, -1.58632148, -1.4053405 ],\n",
       "       [-1.53288413, -0.88640526, -0.27630176, -1.58632148,  1.89449216],\n",
       "       [-1.5155634 , -0.88640526,  1.37433211, -1.54815205, -1.36651894],\n",
       "       [-1.49824268, -0.88640526, -1.06573534, -1.54815205,  1.04041783],\n",
       "       [-1.48092195,  1.12815215, -0.13276838, -1.54815205, -1.44416206],\n",
       "       [-1.46360123,  1.12815215, -1.20926872, -1.54815205,  1.11806095],\n",
       "       [-1.4462805 , -0.88640526, -0.27630176, -1.50998262, -0.59008772],\n",
       "       [-1.42895978,  1.12815215, -1.3528021 , -1.50998262,  0.61338066],\n",
       "       [-1.41163905,  1.12815215,  0.94373197, -1.43364376, -0.82301709],\n",
       "       [-1.39431833, -0.88640526, -0.27630176, -1.43364376,  1.8556706 ],\n",
       "       [-1.3769976 ,  1.12815215, -0.27630176, -1.39547433, -0.59008772],\n",
       "       [-1.35967688,  1.12815215, -0.99396865, -1.39547433,  0.88513158],\n",
       "       [-1.34235616, -0.88640526,  0.51313183, -1.3573049 , -1.75473454],\n",
       "       [-1.32503543,  1.12815215, -0.56336851, -1.3573049 ,  0.88513158],\n",
       "       [-1.30771471, -0.88640526,  1.08726535, -1.24279661, -1.4053405 ],\n",
       "       [-1.29039398,  1.12815215, -0.70690189, -1.24279661,  1.23452563],\n",
       "       [-1.27307326, -0.88640526,  0.44136514, -1.24279661, -0.7065524 ],\n",
       "       [-1.25575253,  1.12815215, -0.27630176, -1.24279661,  0.41927286],\n",
       "       [-1.23843181, -0.88640526,  0.08253169, -1.20462718, -0.74537397],\n",
       "       [-1.22111108, -0.88640526, -1.13750203, -1.20462718,  1.42863343],\n",
       "       [-1.20379036,  1.12815215,  1.51786549, -1.16645776, -1.7935561 ],\n",
       "       [-1.18646963, -0.88640526, -1.28103541, -1.16645776,  0.88513158],\n",
       "       [-1.16914891,  1.12815215,  1.01549866, -1.05194947, -1.7935561 ],\n",
       "       [-1.15182818,  1.12815215, -1.49633548, -1.05194947,  1.62274124],\n",
       "       [-1.13450746, -0.88640526,  0.7284319 , -1.05194947, -1.4053405 ],\n",
       "       [-1.11718674, -0.88640526, -1.28103541, -1.05194947,  1.19570407],\n",
       "       [-1.09986601, -0.88640526,  0.22606507, -1.01378004, -1.28887582],\n",
       "       [-1.08254529, -0.88640526, -0.6351352 , -1.01378004,  0.88513158],\n",
       "       [-1.06522456, -0.88640526, -0.20453507, -0.89927175, -0.93948177],\n",
       "       [-1.04790384, -0.88640526, -1.3528021 , -0.89927175,  0.96277471],\n",
       "       [-1.03058311, -0.88640526,  1.87669894, -0.86110232, -0.59008772],\n",
       "       [-1.01326239,  1.12815215, -1.06573534, -0.86110232,  1.62274124],\n",
       "       [-0.99594166,  1.12815215,  0.65666521, -0.82293289, -0.55126616],\n",
       "       [-0.97862094, -0.88640526, -0.56336851, -0.82293289,  0.41927286],\n",
       "       [-0.96130021, -0.88640526,  0.7284319 , -0.82293289, -0.86183865],\n",
       "       [-0.94397949, -0.88640526, -1.06573534, -0.82293289,  0.5745591 ],\n",
       "       [-0.92665877, -0.88640526,  0.80019859, -0.78476346,  0.18634349],\n",
       "       [-0.90933804, -0.88640526, -0.85043527, -0.78476346, -0.12422899],\n",
       "       [-0.89201732, -0.88640526, -0.70690189, -0.78476346, -0.3183368 ],\n",
       "       [-0.87469659, -0.88640526, -0.56336851, -0.78476346, -0.3183368 ],\n",
       "       [-0.85737587, -0.88640526,  0.7284319 , -0.70842461,  0.06987881],\n",
       "       [-0.84005514,  1.12815215, -0.41983513, -0.70842461,  0.38045129],\n",
       "       [-0.82273442, -0.88640526, -0.56336851, -0.67025518,  0.14752193],\n",
       "       [-0.80541369,  1.12815215,  1.4460988 , -0.67025518,  0.38045129],\n",
       "       [-0.78809297, -0.88640526,  0.80019859, -0.67025518, -0.20187212],\n",
       "       [-0.77077224,  1.12815215,  0.58489852, -0.67025518, -0.35715836],\n",
       "       [-0.75345152, -0.88640526,  0.87196528, -0.63208575, -0.00776431],\n",
       "       [-0.73613079,  1.12815215,  2.16376569, -0.63208575, -0.16305055],\n",
       "       [-0.71881007, -0.88640526, -0.85043527, -0.55574689,  0.03105725],\n",
       "       [-0.70148935,  1.12815215,  1.01549866, -0.55574689, -0.16305055],\n",
       "       [-0.68416862,  1.12815215,  2.23553238, -0.55574689,  0.22516505],\n",
       "       [-0.6668479 ,  1.12815215, -1.42456879, -0.55574689,  0.18634349],\n",
       "       [-0.64952717, -0.88640526,  2.02023231, -0.51757746,  0.06987881],\n",
       "       [-0.63220645, -0.88640526,  1.08726535, -0.51757746,  0.34162973],\n",
       "       [-0.61488572,  1.12815215,  1.73316556, -0.47940803,  0.03105725],\n",
       "       [-0.597565  ,  1.12815215, -1.49633548, -0.47940803,  0.34162973],\n",
       "       [-0.58024427, -0.88640526,  0.29783176, -0.47940803, -0.00776431],\n",
       "       [-0.56292355, -0.88640526,  2.091999  , -0.47940803, -0.08540743],\n",
       "       [-0.54560282,  1.12815215, -1.42456879, -0.47940803,  0.34162973],\n",
       "       [-0.5282821 , -0.88640526, -0.49160182, -0.47940803, -0.12422899],\n",
       "       [-0.51096138,  1.12815215,  2.23553238, -0.4412386 ,  0.18634349],\n",
       "       [-0.49364065, -0.88640526,  0.58489852, -0.4412386 , -0.3183368 ],\n",
       "       [-0.47631993, -0.88640526,  1.51786549, -0.40306917, -0.04658587],\n",
       "       [-0.4589992 , -0.88640526,  1.51786549, -0.40306917,  0.22516505],\n",
       "       [-0.44167848,  1.12815215,  1.4460988 , -0.25039146, -0.12422899],\n",
       "       [-0.42435775,  1.12815215, -0.92220196, -0.25039146,  0.14752193],\n",
       "       [-0.40703703, -0.88640526,  0.44136514, -0.25039146,  0.10870037],\n",
       "       [-0.3897163 ,  1.12815215,  0.08253169, -0.25039146, -0.08540743],\n",
       "       [-0.37239558, -0.88640526, -1.13750203, -0.25039146,  0.06987881],\n",
       "       [-0.35507485, -0.88640526,  0.7284319 , -0.25039146, -0.3183368 ],\n",
       "       [-0.33775413,  1.12815215,  1.30256542, -0.25039146,  0.03105725],\n",
       "       [-0.3204334 ,  1.12815215, -0.06100169, -0.25039146,  0.18634349],\n",
       "       [-0.30311268,  1.12815215,  2.02023231, -0.25039146, -0.35715836],\n",
       "       [-0.28579196, -0.88640526,  0.51313183, -0.25039146, -0.24069368],\n",
       "       [-0.26847123, -0.88640526, -1.28103541, -0.25039146,  0.26398661],\n",
       "       [-0.25115051,  1.12815215,  0.65666521, -0.25039146, -0.16305055],\n",
       "       [-0.23382978, -0.88640526,  1.15903204, -0.13588317,  0.30280817],\n",
       "       [-0.21650906, -0.88640526, -1.20926872, -0.13588317,  0.18634349],\n",
       "       [-0.19918833, -0.88640526, -0.34806844, -0.09771374,  0.38045129],\n",
       "       [-0.18186761, -0.88640526,  0.80019859, -0.09771374, -0.16305055],\n",
       "       [-0.16454688, -0.88640526,  2.091999  , -0.05954431,  0.18634349],\n",
       "       [-0.14722616,  1.12815215, -1.49633548, -0.05954431, -0.35715836],\n",
       "       [-0.12990543,  1.12815215,  0.65666521, -0.02137488, -0.04658587],\n",
       "       [-0.11258471, -0.88640526,  0.08253169, -0.02137488, -0.39597992],\n",
       "       [-0.09526399, -0.88640526, -0.49160182, -0.02137488, -0.3183368 ],\n",
       "       [-0.07794326,  1.12815215, -1.06573534, -0.02137488,  0.06987881],\n",
       "       [-0.06062254, -0.88640526,  0.58489852, -0.02137488, -0.12422899],\n",
       "       [-0.04330181, -0.88640526, -0.85043527, -0.02137488, -0.00776431],\n",
       "       [-0.02598109,  1.12815215,  0.65666521,  0.01679455, -0.3183368 ],\n",
       "       [-0.00866036,  1.12815215, -1.3528021 ,  0.01679455, -0.04658587],\n",
       "       [ 0.00866036, -0.88640526, -1.13750203,  0.05496398, -0.35715836],\n",
       "       [ 0.02598109, -0.88640526,  0.7284319 ,  0.05496398, -0.08540743],\n",
       "       [ 0.04330181,  1.12815215,  2.02023231,  0.05496398,  0.34162973],\n",
       "       [ 0.06062254,  1.12815215, -0.92220196,  0.05496398,  0.18634349],\n",
       "       [ 0.07794326,  1.12815215,  0.7284319 ,  0.05496398,  0.22516505],\n",
       "       [ 0.09526399, -0.88640526, -1.28103541,  0.05496398, -0.3183368 ],\n",
       "       [ 0.11258471, -0.88640526,  1.94846562,  0.09313341, -0.00776431],\n",
       "       [ 0.12990543,  1.12815215,  1.08726535,  0.09313341, -0.16305055],\n",
       "       [ 0.14722616,  1.12815215,  2.091999  ,  0.09313341, -0.27951524],\n",
       "       [ 0.16454688,  1.12815215,  1.94846562,  0.09313341, -0.08540743],\n",
       "       [ 0.18186761,  1.12815215,  1.87669894,  0.09313341,  0.06987881],\n",
       "       [ 0.19918833, -0.88640526, -1.42456879,  0.09313341,  0.14752193],\n",
       "       [ 0.21650906, -0.88640526, -0.06100169,  0.13130284, -0.3183368 ],\n",
       "       [ 0.23382978,  1.12815215, -1.42456879,  0.13130284, -0.16305055],\n",
       "       [ 0.25115051, -0.88640526, -1.49633548,  0.16947227, -0.08540743],\n",
       "       [ 0.26847123, -0.88640526, -1.42456879,  0.16947227, -0.00776431],\n",
       "       [ 0.28579196, -0.88640526,  1.73316556,  0.16947227, -0.27951524],\n",
       "       [ 0.30311268, -0.88640526,  0.7284319 ,  0.16947227,  0.34162973],\n",
       "       [ 0.3204334 , -0.88640526,  0.87196528,  0.24581112, -0.27951524],\n",
       "       [ 0.33775413, -0.88640526,  0.80019859,  0.24581112,  0.26398661],\n",
       "       [ 0.35507485,  1.12815215, -0.85043527,  0.24581112,  0.22516505],\n",
       "       [ 0.37239558, -0.88640526, -0.06100169,  0.24581112, -0.39597992],\n",
       "       [ 0.3897163 , -0.88640526,  0.08253169,  0.32214998,  0.30280817],\n",
       "       [ 0.40703703,  1.12815215,  0.010765  ,  0.32214998,  1.58391968],\n",
       "       [ 0.42435775, -0.88640526, -1.13750203,  0.36031941, -0.82301709],\n",
       "       [ 0.44167848, -0.88640526, -0.56336851,  0.36031941,  1.04041783],\n",
       "       [ 0.4589992 ,  1.12815215,  0.29783176,  0.39848884, -0.59008772],\n",
       "       [ 0.47631993,  1.12815215,  0.08253169,  0.39848884,  1.73920592],\n",
       "       [ 0.49364065,  1.12815215,  1.4460988 ,  0.39848884, -1.52180518],\n",
       "       [ 0.51096138,  1.12815215, -0.06100169,  0.39848884,  0.96277471],\n",
       "       [ 0.5282821 ,  1.12815215,  0.58489852,  0.39848884, -1.5994483 ],\n",
       "       [ 0.54560282,  1.12815215,  0.010765  ,  0.39848884,  0.96277471],\n",
       "       [ 0.56292355, -0.88640526, -0.99396865,  0.43665827, -0.62890928],\n",
       "       [ 0.58024427, -0.88640526, -0.56336851,  0.43665827,  0.80748846],\n",
       "       [ 0.597565  ,  1.12815215, -1.3528021 ,  0.4748277 , -1.75473454],\n",
       "       [ 0.61488572, -0.88640526, -0.70690189,  0.4748277 ,  1.46745499],\n",
       "       [ 0.63220645, -0.88640526,  0.36959845,  0.4748277 , -1.67709142],\n",
       "       [ 0.64952717,  1.12815215, -0.49160182,  0.4748277 ,  0.88513158],\n",
       "       [ 0.6668479 ,  1.12815215, -1.42456879,  0.51299713, -1.56062674],\n",
       "       [ 0.68416862, -0.88640526, -0.27630176,  0.51299713,  0.84631002],\n",
       "       [ 0.70148935, -0.88640526,  1.30256542,  0.55116656, -1.75473454],\n",
       "       [ 0.71881007,  1.12815215, -0.49160182,  0.55116656,  1.6615628 ],\n",
       "       [ 0.73613079, -0.88640526, -0.77866858,  0.58933599, -0.39597992],\n",
       "       [ 0.75345152, -0.88640526, -0.49160182,  0.58933599,  1.42863343],\n",
       "       [ 0.77077224,  1.12815215, -0.99396865,  0.62750542, -1.48298362],\n",
       "       [ 0.78809297,  1.12815215, -0.77866858,  0.62750542,  1.81684904],\n",
       "       [ 0.80541369,  1.12815215,  0.65666521,  0.62750542, -0.55126616],\n",
       "       [ 0.82273442, -0.88640526, -0.49160182,  0.62750542,  0.92395314],\n",
       "       [ 0.84005514, -0.88640526, -0.34806844,  0.66567484, -1.09476801],\n",
       "       [ 0.85737587,  1.12815215, -0.34806844,  0.66567484,  1.54509812],\n",
       "       [ 0.87469659,  1.12815215,  0.29783176,  0.66567484, -1.28887582],\n",
       "       [ 0.89201732,  1.12815215,  0.010765  ,  0.66567484,  1.46745499],\n",
       "       [ 0.90933804, -0.88640526,  0.36959845,  0.66567484, -1.17241113],\n",
       "       [ 0.92665877, -0.88640526, -0.06100169,  0.66567484,  1.00159627],\n",
       "       [ 0.94397949, -0.88640526,  0.58489852,  0.66567484, -1.32769738],\n",
       "       [ 0.96130021, -0.88640526, -0.85043527,  0.66567484,  1.50627656],\n",
       "       [ 0.97862094,  1.12815215, -0.13276838,  0.66567484, -1.91002079],\n",
       "       [ 0.99594166, -0.88640526, -0.6351352 ,  0.66567484,  1.07923939],\n",
       "       [ 1.01326239,  1.12815215, -0.34806844,  0.66567484, -1.91002079],\n",
       "       [ 1.03058311, -0.88640526, -0.6351352 ,  0.66567484,  0.88513158],\n",
       "       [ 1.04790384, -0.88640526,  1.23079873,  0.70384427, -0.59008772],\n",
       "       [ 1.06522456, -0.88640526, -0.70690189,  0.70384427,  1.27334719],\n",
       "       [ 1.08254529,  1.12815215, -1.42456879,  0.78018313, -1.75473454],\n",
       "       [ 1.09986601, -0.88640526, -0.56336851,  0.78018313,  1.6615628 ],\n",
       "       [ 1.11718674,  1.12815215,  0.80019859,  0.93286085, -0.93948177],\n",
       "       [ 1.13450746, -0.88640526, -0.20453507,  0.93286085,  0.96277471],\n",
       "       [ 1.15182818,  1.12815215,  0.22606507,  0.97103028, -1.17241113],\n",
       "       [ 1.16914891, -0.88640526, -0.41983513,  0.97103028,  1.73920592],\n",
       "       [ 1.18646963, -0.88640526, -0.20453507,  1.00919971, -0.90066021],\n",
       "       [ 1.20379036,  1.12815215, -0.49160182,  1.00919971,  0.49691598],\n",
       "       [ 1.22111108,  1.12815215,  0.08253169,  1.00919971, -1.44416206],\n",
       "       [ 1.23843181,  1.12815215, -0.77866858,  1.00919971,  0.96277471],\n",
       "       [ 1.25575253,  1.12815215, -0.20453507,  1.00919971, -1.56062674],\n",
       "       [ 1.27307326,  1.12815215, -0.20453507,  1.00919971,  1.62274124],\n",
       "       [ 1.29039398, -0.88640526,  0.94373197,  1.04736914, -1.44416206],\n",
       "       [ 1.30771471, -0.88640526, -0.6351352 ,  1.04736914,  1.38981187],\n",
       "       [ 1.32503543,  1.12815215,  1.37433211,  1.04736914, -1.36651894],\n",
       "       [ 1.34235616,  1.12815215, -0.85043527,  1.04736914,  0.72984534],\n",
       "       [ 1.35967688,  1.12815215,  1.4460988 ,  1.23821628, -1.4053405 ],\n",
       "       [ 1.3769976 ,  1.12815215, -0.27630176,  1.23821628,  1.54509812],\n",
       "       [ 1.39431833, -0.88640526, -0.13276838,  1.390894  , -0.7065524 ],\n",
       "       [ 1.41163905, -0.88640526, -0.49160182,  1.390894  ,  1.38981187],\n",
       "       [ 1.42895978,  1.12815215,  0.51313183,  1.42906343, -1.36651894],\n",
       "       [ 1.4462805 , -0.88640526, -0.70690189,  1.42906343,  1.46745499],\n",
       "       [ 1.46360123, -0.88640526,  0.15429838,  1.46723286, -0.43480148],\n",
       "       [ 1.48092195,  1.12815215, -0.6351352 ,  1.46723286,  1.81684904],\n",
       "       [ 1.49824268, -0.88640526,  1.08726535,  1.54357172, -1.01712489],\n",
       "       [ 1.5155634 ,  1.12815215, -0.77866858,  1.54357172,  0.69102378],\n",
       "       [ 1.53288413, -0.88640526,  0.15429838,  1.61991057, -1.28887582],\n",
       "       [ 1.55020485, -0.88640526, -0.20453507,  1.61991057,  1.35099031],\n",
       "       [ 1.56752558, -0.88640526, -0.34806844,  1.61991057, -1.05594645],\n",
       "       [ 1.5848463 , -0.88640526, -0.49160182,  1.61991057,  0.72984534],\n",
       "       [ 1.60216702,  1.12815215, -0.41983513,  2.00160487, -1.63826986],\n",
       "       [ 1.61948775, -0.88640526, -0.06100169,  2.00160487,  1.58391968],\n",
       "       [ 1.63680847, -0.88640526,  0.58489852,  2.26879087, -1.32769738],\n",
       "       [ 1.6541292 , -0.88640526, -0.27630176,  2.26879087,  1.11806095],\n",
       "       [ 1.67144992, -0.88640526,  0.44136514,  2.49780745, -0.86183865],\n",
       "       [ 1.68877065,  1.12815215, -0.49160182,  2.49780745,  0.92395314],\n",
       "       [ 1.70609137,  1.12815215, -0.49160182,  2.91767117, -1.25005425],\n",
       "       [ 1.7234121 ,  1.12815215, -0.6351352 ,  2.91767117,  1.27334719]])"
      ]
     },
     "execution_count": 68,
     "metadata": {},
     "output_type": "execute_result"
    }
   ],
   "source": [
    "s_s"
   ]
  },
  {
   "cell_type": "code",
   "execution_count": 74,
   "id": "12c1eb9e",
   "metadata": {},
   "outputs": [],
   "source": [
    "df_s=pd.DataFrame(s_s, columns=[\"customer_id\",\"gender\",\"age\",\"annual_income\",\"spending_score\"])"
   ]
  },
  {
   "cell_type": "code",
   "execution_count": 75,
   "id": "150fcbd5",
   "metadata": {},
   "outputs": [],
   "source": [
    "# importing kmean algo"
   ]
  },
  {
   "cell_type": "code",
   "execution_count": 80,
   "id": "df147986",
   "metadata": {},
   "outputs": [],
   "source": [
    "from sklearn.cluster import KMeans\n",
    "cluster=list(range(2,50))\n",
    "ssd=[]\n"
   ]
  },
  {
   "cell_type": "code",
   "execution_count": 88,
   "id": "80011edf",
   "metadata": {
    "scrolled": true
   },
   "outputs": [
    {
     "name": "stderr",
     "output_type": "stream",
     "text": [
      "C:\\Users\\Vikas\\AppData\\Local\\Programs\\Python\\Python311\\Lib\\site-packages\\sklearn\\cluster\\_kmeans.py:870: FutureWarning: The default value of `n_init` will change from 10 to 'auto' in 1.4. Set the value of `n_init` explicitly to suppress the warning\n",
      "  warnings.warn(\n",
      "C:\\Users\\Vikas\\AppData\\Local\\Programs\\Python\\Python311\\Lib\\site-packages\\sklearn\\cluster\\_kmeans.py:870: FutureWarning: The default value of `n_init` will change from 10 to 'auto' in 1.4. Set the value of `n_init` explicitly to suppress the warning\n",
      "  warnings.warn(\n",
      "C:\\Users\\Vikas\\AppData\\Local\\Programs\\Python\\Python311\\Lib\\site-packages\\sklearn\\cluster\\_kmeans.py:870: FutureWarning: The default value of `n_init` will change from 10 to 'auto' in 1.4. Set the value of `n_init` explicitly to suppress the warning\n",
      "  warnings.warn(\n",
      "C:\\Users\\Vikas\\AppData\\Local\\Programs\\Python\\Python311\\Lib\\site-packages\\sklearn\\cluster\\_kmeans.py:870: FutureWarning: The default value of `n_init` will change from 10 to 'auto' in 1.4. Set the value of `n_init` explicitly to suppress the warning\n",
      "  warnings.warn(\n",
      "C:\\Users\\Vikas\\AppData\\Local\\Programs\\Python\\Python311\\Lib\\site-packages\\sklearn\\cluster\\_kmeans.py:870: FutureWarning: The default value of `n_init` will change from 10 to 'auto' in 1.4. Set the value of `n_init` explicitly to suppress the warning\n",
      "  warnings.warn(\n",
      "C:\\Users\\Vikas\\AppData\\Local\\Programs\\Python\\Python311\\Lib\\site-packages\\sklearn\\cluster\\_kmeans.py:870: FutureWarning: The default value of `n_init` will change from 10 to 'auto' in 1.4. Set the value of `n_init` explicitly to suppress the warning\n",
      "  warnings.warn(\n",
      "C:\\Users\\Vikas\\AppData\\Local\\Programs\\Python\\Python311\\Lib\\site-packages\\sklearn\\cluster\\_kmeans.py:870: FutureWarning: The default value of `n_init` will change from 10 to 'auto' in 1.4. Set the value of `n_init` explicitly to suppress the warning\n",
      "  warnings.warn(\n",
      "C:\\Users\\Vikas\\AppData\\Local\\Programs\\Python\\Python311\\Lib\\site-packages\\sklearn\\cluster\\_kmeans.py:870: FutureWarning: The default value of `n_init` will change from 10 to 'auto' in 1.4. Set the value of `n_init` explicitly to suppress the warning\n",
      "  warnings.warn(\n",
      "C:\\Users\\Vikas\\AppData\\Local\\Programs\\Python\\Python311\\Lib\\site-packages\\sklearn\\cluster\\_kmeans.py:870: FutureWarning: The default value of `n_init` will change from 10 to 'auto' in 1.4. Set the value of `n_init` explicitly to suppress the warning\n",
      "  warnings.warn(\n",
      "C:\\Users\\Vikas\\AppData\\Local\\Programs\\Python\\Python311\\Lib\\site-packages\\sklearn\\cluster\\_kmeans.py:870: FutureWarning: The default value of `n_init` will change from 10 to 'auto' in 1.4. Set the value of `n_init` explicitly to suppress the warning\n",
      "  warnings.warn(\n",
      "C:\\Users\\Vikas\\AppData\\Local\\Programs\\Python\\Python311\\Lib\\site-packages\\sklearn\\cluster\\_kmeans.py:870: FutureWarning: The default value of `n_init` will change from 10 to 'auto' in 1.4. Set the value of `n_init` explicitly to suppress the warning\n",
      "  warnings.warn(\n",
      "C:\\Users\\Vikas\\AppData\\Local\\Programs\\Python\\Python311\\Lib\\site-packages\\sklearn\\cluster\\_kmeans.py:870: FutureWarning: The default value of `n_init` will change from 10 to 'auto' in 1.4. Set the value of `n_init` explicitly to suppress the warning\n",
      "  warnings.warn(\n",
      "C:\\Users\\Vikas\\AppData\\Local\\Programs\\Python\\Python311\\Lib\\site-packages\\sklearn\\cluster\\_kmeans.py:870: FutureWarning: The default value of `n_init` will change from 10 to 'auto' in 1.4. Set the value of `n_init` explicitly to suppress the warning\n",
      "  warnings.warn(\n",
      "C:\\Users\\Vikas\\AppData\\Local\\Programs\\Python\\Python311\\Lib\\site-packages\\sklearn\\cluster\\_kmeans.py:870: FutureWarning: The default value of `n_init` will change from 10 to 'auto' in 1.4. Set the value of `n_init` explicitly to suppress the warning\n",
      "  warnings.warn(\n",
      "C:\\Users\\Vikas\\AppData\\Local\\Programs\\Python\\Python311\\Lib\\site-packages\\sklearn\\cluster\\_kmeans.py:870: FutureWarning: The default value of `n_init` will change from 10 to 'auto' in 1.4. Set the value of `n_init` explicitly to suppress the warning\n",
      "  warnings.warn(\n",
      "C:\\Users\\Vikas\\AppData\\Local\\Programs\\Python\\Python311\\Lib\\site-packages\\sklearn\\cluster\\_kmeans.py:870: FutureWarning: The default value of `n_init` will change from 10 to 'auto' in 1.4. Set the value of `n_init` explicitly to suppress the warning\n",
      "  warnings.warn(\n",
      "C:\\Users\\Vikas\\AppData\\Local\\Programs\\Python\\Python311\\Lib\\site-packages\\sklearn\\cluster\\_kmeans.py:870: FutureWarning: The default value of `n_init` will change from 10 to 'auto' in 1.4. Set the value of `n_init` explicitly to suppress the warning\n",
      "  warnings.warn(\n",
      "C:\\Users\\Vikas\\AppData\\Local\\Programs\\Python\\Python311\\Lib\\site-packages\\sklearn\\cluster\\_kmeans.py:870: FutureWarning: The default value of `n_init` will change from 10 to 'auto' in 1.4. Set the value of `n_init` explicitly to suppress the warning\n",
      "  warnings.warn(\n",
      "C:\\Users\\Vikas\\AppData\\Local\\Programs\\Python\\Python311\\Lib\\site-packages\\sklearn\\cluster\\_kmeans.py:870: FutureWarning: The default value of `n_init` will change from 10 to 'auto' in 1.4. Set the value of `n_init` explicitly to suppress the warning\n",
      "  warnings.warn(\n",
      "C:\\Users\\Vikas\\AppData\\Local\\Programs\\Python\\Python311\\Lib\\site-packages\\sklearn\\cluster\\_kmeans.py:870: FutureWarning: The default value of `n_init` will change from 10 to 'auto' in 1.4. Set the value of `n_init` explicitly to suppress the warning\n",
      "  warnings.warn(\n",
      "C:\\Users\\Vikas\\AppData\\Local\\Programs\\Python\\Python311\\Lib\\site-packages\\sklearn\\cluster\\_kmeans.py:870: FutureWarning: The default value of `n_init` will change from 10 to 'auto' in 1.4. Set the value of `n_init` explicitly to suppress the warning\n",
      "  warnings.warn(\n",
      "C:\\Users\\Vikas\\AppData\\Local\\Programs\\Python\\Python311\\Lib\\site-packages\\sklearn\\cluster\\_kmeans.py:870: FutureWarning: The default value of `n_init` will change from 10 to 'auto' in 1.4. Set the value of `n_init` explicitly to suppress the warning\n",
      "  warnings.warn(\n",
      "C:\\Users\\Vikas\\AppData\\Local\\Programs\\Python\\Python311\\Lib\\site-packages\\sklearn\\cluster\\_kmeans.py:870: FutureWarning: The default value of `n_init` will change from 10 to 'auto' in 1.4. Set the value of `n_init` explicitly to suppress the warning\n",
      "  warnings.warn(\n",
      "C:\\Users\\Vikas\\AppData\\Local\\Programs\\Python\\Python311\\Lib\\site-packages\\sklearn\\cluster\\_kmeans.py:870: FutureWarning: The default value of `n_init` will change from 10 to 'auto' in 1.4. Set the value of `n_init` explicitly to suppress the warning\n",
      "  warnings.warn(\n",
      "C:\\Users\\Vikas\\AppData\\Local\\Programs\\Python\\Python311\\Lib\\site-packages\\sklearn\\cluster\\_kmeans.py:870: FutureWarning: The default value of `n_init` will change from 10 to 'auto' in 1.4. Set the value of `n_init` explicitly to suppress the warning\n",
      "  warnings.warn(\n",
      "C:\\Users\\Vikas\\AppData\\Local\\Programs\\Python\\Python311\\Lib\\site-packages\\sklearn\\cluster\\_kmeans.py:870: FutureWarning: The default value of `n_init` will change from 10 to 'auto' in 1.4. Set the value of `n_init` explicitly to suppress the warning\n",
      "  warnings.warn(\n",
      "C:\\Users\\Vikas\\AppData\\Local\\Programs\\Python\\Python311\\Lib\\site-packages\\sklearn\\cluster\\_kmeans.py:870: FutureWarning: The default value of `n_init` will change from 10 to 'auto' in 1.4. Set the value of `n_init` explicitly to suppress the warning\n",
      "  warnings.warn(\n",
      "C:\\Users\\Vikas\\AppData\\Local\\Programs\\Python\\Python311\\Lib\\site-packages\\sklearn\\cluster\\_kmeans.py:870: FutureWarning: The default value of `n_init` will change from 10 to 'auto' in 1.4. Set the value of `n_init` explicitly to suppress the warning\n",
      "  warnings.warn(\n",
      "C:\\Users\\Vikas\\AppData\\Local\\Programs\\Python\\Python311\\Lib\\site-packages\\sklearn\\cluster\\_kmeans.py:870: FutureWarning: The default value of `n_init` will change from 10 to 'auto' in 1.4. Set the value of `n_init` explicitly to suppress the warning\n",
      "  warnings.warn(\n",
      "C:\\Users\\Vikas\\AppData\\Local\\Programs\\Python\\Python311\\Lib\\site-packages\\sklearn\\cluster\\_kmeans.py:870: FutureWarning: The default value of `n_init` will change from 10 to 'auto' in 1.4. Set the value of `n_init` explicitly to suppress the warning\n",
      "  warnings.warn(\n",
      "C:\\Users\\Vikas\\AppData\\Local\\Programs\\Python\\Python311\\Lib\\site-packages\\sklearn\\cluster\\_kmeans.py:870: FutureWarning: The default value of `n_init` will change from 10 to 'auto' in 1.4. Set the value of `n_init` explicitly to suppress the warning\n",
      "  warnings.warn(\n"
     ]
    },
    {
     "name": "stderr",
     "output_type": "stream",
     "text": [
      "C:\\Users\\Vikas\\AppData\\Local\\Programs\\Python\\Python311\\Lib\\site-packages\\sklearn\\cluster\\_kmeans.py:870: FutureWarning: The default value of `n_init` will change from 10 to 'auto' in 1.4. Set the value of `n_init` explicitly to suppress the warning\n",
      "  warnings.warn(\n",
      "C:\\Users\\Vikas\\AppData\\Local\\Programs\\Python\\Python311\\Lib\\site-packages\\sklearn\\cluster\\_kmeans.py:870: FutureWarning: The default value of `n_init` will change from 10 to 'auto' in 1.4. Set the value of `n_init` explicitly to suppress the warning\n",
      "  warnings.warn(\n",
      "C:\\Users\\Vikas\\AppData\\Local\\Programs\\Python\\Python311\\Lib\\site-packages\\sklearn\\cluster\\_kmeans.py:870: FutureWarning: The default value of `n_init` will change from 10 to 'auto' in 1.4. Set the value of `n_init` explicitly to suppress the warning\n",
      "  warnings.warn(\n",
      "C:\\Users\\Vikas\\AppData\\Local\\Programs\\Python\\Python311\\Lib\\site-packages\\sklearn\\cluster\\_kmeans.py:870: FutureWarning: The default value of `n_init` will change from 10 to 'auto' in 1.4. Set the value of `n_init` explicitly to suppress the warning\n",
      "  warnings.warn(\n",
      "C:\\Users\\Vikas\\AppData\\Local\\Programs\\Python\\Python311\\Lib\\site-packages\\sklearn\\cluster\\_kmeans.py:870: FutureWarning: The default value of `n_init` will change from 10 to 'auto' in 1.4. Set the value of `n_init` explicitly to suppress the warning\n",
      "  warnings.warn(\n",
      "C:\\Users\\Vikas\\AppData\\Local\\Programs\\Python\\Python311\\Lib\\site-packages\\sklearn\\cluster\\_kmeans.py:870: FutureWarning: The default value of `n_init` will change from 10 to 'auto' in 1.4. Set the value of `n_init` explicitly to suppress the warning\n",
      "  warnings.warn(\n",
      "C:\\Users\\Vikas\\AppData\\Local\\Programs\\Python\\Python311\\Lib\\site-packages\\sklearn\\cluster\\_kmeans.py:870: FutureWarning: The default value of `n_init` will change from 10 to 'auto' in 1.4. Set the value of `n_init` explicitly to suppress the warning\n",
      "  warnings.warn(\n",
      "C:\\Users\\Vikas\\AppData\\Local\\Programs\\Python\\Python311\\Lib\\site-packages\\sklearn\\cluster\\_kmeans.py:870: FutureWarning: The default value of `n_init` will change from 10 to 'auto' in 1.4. Set the value of `n_init` explicitly to suppress the warning\n",
      "  warnings.warn(\n",
      "C:\\Users\\Vikas\\AppData\\Local\\Programs\\Python\\Python311\\Lib\\site-packages\\sklearn\\cluster\\_kmeans.py:870: FutureWarning: The default value of `n_init` will change from 10 to 'auto' in 1.4. Set the value of `n_init` explicitly to suppress the warning\n",
      "  warnings.warn(\n",
      "C:\\Users\\Vikas\\AppData\\Local\\Programs\\Python\\Python311\\Lib\\site-packages\\sklearn\\cluster\\_kmeans.py:870: FutureWarning: The default value of `n_init` will change from 10 to 'auto' in 1.4. Set the value of `n_init` explicitly to suppress the warning\n",
      "  warnings.warn(\n",
      "C:\\Users\\Vikas\\AppData\\Local\\Programs\\Python\\Python311\\Lib\\site-packages\\sklearn\\cluster\\_kmeans.py:870: FutureWarning: The default value of `n_init` will change from 10 to 'auto' in 1.4. Set the value of `n_init` explicitly to suppress the warning\n",
      "  warnings.warn(\n",
      "C:\\Users\\Vikas\\AppData\\Local\\Programs\\Python\\Python311\\Lib\\site-packages\\sklearn\\cluster\\_kmeans.py:870: FutureWarning: The default value of `n_init` will change from 10 to 'auto' in 1.4. Set the value of `n_init` explicitly to suppress the warning\n",
      "  warnings.warn(\n",
      "C:\\Users\\Vikas\\AppData\\Local\\Programs\\Python\\Python311\\Lib\\site-packages\\sklearn\\cluster\\_kmeans.py:870: FutureWarning: The default value of `n_init` will change from 10 to 'auto' in 1.4. Set the value of `n_init` explicitly to suppress the warning\n",
      "  warnings.warn(\n",
      "C:\\Users\\Vikas\\AppData\\Local\\Programs\\Python\\Python311\\Lib\\site-packages\\sklearn\\cluster\\_kmeans.py:870: FutureWarning: The default value of `n_init` will change from 10 to 'auto' in 1.4. Set the value of `n_init` explicitly to suppress the warning\n",
      "  warnings.warn(\n",
      "C:\\Users\\Vikas\\AppData\\Local\\Programs\\Python\\Python311\\Lib\\site-packages\\sklearn\\cluster\\_kmeans.py:870: FutureWarning: The default value of `n_init` will change from 10 to 'auto' in 1.4. Set the value of `n_init` explicitly to suppress the warning\n",
      "  warnings.warn(\n",
      "C:\\Users\\Vikas\\AppData\\Local\\Programs\\Python\\Python311\\Lib\\site-packages\\sklearn\\cluster\\_kmeans.py:870: FutureWarning: The default value of `n_init` will change from 10 to 'auto' in 1.4. Set the value of `n_init` explicitly to suppress the warning\n",
      "  warnings.warn(\n",
      "C:\\Users\\Vikas\\AppData\\Local\\Programs\\Python\\Python311\\Lib\\site-packages\\sklearn\\cluster\\_kmeans.py:870: FutureWarning: The default value of `n_init` will change from 10 to 'auto' in 1.4. Set the value of `n_init` explicitly to suppress the warning\n",
      "  warnings.warn(\n"
     ]
    }
   ],
   "source": [
    "for i in cluster:\n",
    "    cluster_model= KMeans(n_clusters=i,max_iter=150,random_state=56)\n",
    "    cluster_model.fit(df_s)\n",
    "    ssd.append(cluster_model.inertia_)"
   ]
  },
  {
   "cell_type": "code",
   "execution_count": 162,
   "id": "55aa262c",
   "metadata": {},
   "outputs": [
    {
     "data": {
      "text/plain": [
       "[<matplotlib.lines.Line2D at 0x1c774405e10>]"
      ]
     },
     "execution_count": 162,
     "metadata": {},
     "output_type": "execute_result"
    },
    {
     "data": {
      "image/png": "[encoded data removed]",
      "text/plain": [
       "<Figure size 640x480 with 1 Axes>"
      ]
     },
     "metadata": {},
     "output_type": "display_data"
    }
   ],
   "source": [
    "plt.plot(cluster,ssd)"
   ]
  },
  {
   "cell_type": "code",
   "execution_count": 93,
   "id": "c598a0cc",
   "metadata": {},
   "outputs": [
    {
     "name": "stderr",
     "output_type": "stream",
     "text": [
      "C:\\Users\\Vikas\\AppData\\Local\\Programs\\Python\\Python311\\Lib\\site-packages\\sklearn\\cluster\\_kmeans.py:870: FutureWarning: The default value of `n_init` will change from 10 to 'auto' in 1.4. Set the value of `n_init` explicitly to suppress the warning\n",
      "  warnings.warn(\n"
     ]
    },
    {
     "data": {
      "text/html": [
       "<style>#sk-container-id-1 {color: black;background-color: white;}#sk-container-id-1 pre{padding: 0;}#sk-container-id-1 div.sk-toggleable {background-color: white;}#sk-container-id-1 label.sk-toggleable__label {cursor: pointer;display: block;width: 100%;margin-bottom: 0;padding: 0.3em;box-sizing: border-box;text-align: center;}#sk-container-id-1 label.sk-toggleable__label-arrow:before {content: \"▸\";float: left;margin-right: 0.25em;color: #696969;}#sk-container-id-1 label.sk-toggleable__label-arrow:hover:before {color: black;}#sk-container-id-1 div.sk-estimator:hover label.sk-toggleable__label-arrow:before {color: black;}#sk-container-id-1 div.sk-toggleable__content {max-height: 0;max-width: 0;overflow: hidden;text-align: left;background-color: #f0f8ff;}#sk-container-id-1 div.sk-toggleable__content pre {margin: 0.2em;color: black;border-radius: 0.25em;background-color: #f0f8ff;}#sk-container-id-1 input.sk-toggleable__control:checked~div.sk-toggleable__content {max-height: 200px;max-width: 100%;overflow: auto;}#sk-container-id-1 input.sk-toggleable__control:checked~label.sk-toggleable__label-arrow:before {content: \"▾\";}#sk-container-id-1 div.sk-estimator input.sk-toggleable__control:checked~label.sk-toggleable__label {background-color: #d4ebff;}#sk-container-id-1 div.sk-label input.sk-toggleable__control:checked~label.sk-toggleable__label {background-color: #d4ebff;}#sk-container-id-1 input.sk-hidden--visually {border: 0;clip: rect(1px 1px 1px 1px);clip: rect(1px, 1px, 1px, 1px);height: 1px;margin: -1px;overflow: hidden;padding: 0;position: absolute;width: 1px;}#sk-container-id-1 div.sk-estimator {font-family: monospace;background-color: #f0f8ff;border: 1px dotted black;border-radius: 0.25em;box-sizing: border-box;margin-bottom: 0.5em;}#sk-container-id-1 div.sk-estimator:hover {background-color: #d4ebff;}#sk-container-id-1 div.sk-parallel-item::after {content: \"\";width: 100%;border-bottom: 1px solid gray;flex-grow: 1;}#sk-container-id-1 div.sk-label:hover label.sk-toggleable__label {background-color: #d4ebff;}#sk-container-id-1 div.sk-serial::before {content: \"\";position: absolute;border-left: 1px solid gray;box-sizing: border-box;top: 0;bottom: 0;left: 50%;z-index: 0;}#sk-container-id-1 div.sk-serial {display: flex;flex-direction: column;align-items: center;background-color: white;padding-right: 0.2em;padding-left: 0.2em;position: relative;}#sk-container-id-1 div.sk-item {position: relative;z-index: 1;}#sk-container-id-1 div.sk-parallel {display: flex;align-items: stretch;justify-content: center;background-color: white;position: relative;}#sk-container-id-1 div.sk-item::before, #sk-container-id-1 div.sk-parallel-item::before {content: \"\";position: absolute;border-left: 1px solid gray;box-sizing: border-box;top: 0;bottom: 0;left: 50%;z-index: -1;}#sk-container-id-1 div.sk-parallel-item {display: flex;flex-direction: column;z-index: 1;position: relative;background-color: white;}#sk-container-id-1 div.sk-parallel-item:first-child::after {align-self: flex-end;width: 50%;}#sk-container-id-1 div.sk-parallel-item:last-child::after {align-self: flex-start;width: 50%;}#sk-container-id-1 div.sk-parallel-item:only-child::after {width: 0;}#sk-container-id-1 div.sk-dashed-wrapped {border: 1px dashed gray;margin: 0 0.4em 0.5em 0.4em;box-sizing: border-box;padding-bottom: 0.4em;background-color: white;}#sk-container-id-1 div.sk-label label {font-family: monospace;font-weight: bold;display: inline-block;line-height: 1.2em;}#sk-container-id-1 div.sk-label-container {text-align: center;}#sk-container-id-1 div.sk-container {/* jupyter's `normalize.less` sets `[hidden] { display: none; }` but bootstrap.min.css set `[hidden] { display: none !important; }` so we also need the `!important` here to be able to override the default hidden behavior on the sphinx rendered scikit-learn.org. See: https://github.com/scikit-learn/scikit-learn/issues/21755 */display: inline-block !important;position: relative;}#sk-container-id-1 div.sk-text-repr-fallback {display: none;}</style><div id=\"sk-container-id-1\" class=\"sk-top-container\"><div class=\"sk-text-repr-fallback\"><pre>KMeans(max_iter=150, n_clusters=10, random_state=56)</pre><b>In a Jupyter environment, please rerun this cell to show the HTML representation or trust the notebook. <br />On GitHub, the HTML representation is unable to render, please try loading this page with nbviewer.org.</b></div><div class=\"sk-container\" hidden><div class=\"sk-item\"><div class=\"sk-estimator sk-toggleable\"><input class=\"sk-toggleable__control sk-hidden--visually\" id=\"sk-estimator-id-1\" type=\"checkbox\" checked><label for=\"sk-estimator-id-1\" class=\"sk-toggleable__label sk-toggleable__label-arrow\">KMeans</label><div class=\"sk-toggleable__content\"><pre>KMeans(max_iter=150, n_clusters=10, random_state=56)</pre></div></div></div></div></div>"
      ],
      "text/plain": [
       "KMeans(max_iter=150, n_clusters=10, random_state=56)"
      ]
     },
     "execution_count": 93,
     "metadata": {},
     "output_type": "execute_result"
    }
   ],
   "source": [
    "cluster_model= KMeans(n_clusters=10,max_iter=150,random_state=56)\n",
    "cluster_model.fit(df_s)\n",
    "    "
   ]
  },
  {
   "cell_type": "code",
   "execution_count": 94,
   "id": "7e210b58",
   "metadata": {},
   "outputs": [
    {
     "data": {
      "text/plain": [
       "array([7, 7, 9, 2, 9, 2, 9, 2, 4, 2, 4, 2, 9, 2, 9, 7, 9, 7, 4, 2, 7, 7,\n",
       "       9, 7, 9, 7, 9, 7, 9, 2, 4, 2, 4, 7, 9, 2, 9, 2, 9, 2, 1, 7, 4, 2,\n",
       "       9, 2, 1, 3, 3, 3, 1, 7, 3, 4, 1, 4, 1, 4, 3, 4, 4, 7, 1, 1, 4, 7,\n",
       "       1, 1, 7, 3, 4, 1, 1, 1, 4, 7, 1, 4, 3, 1, 4, 7, 4, 1, 3, 4, 1, 3,\n",
       "       3, 1, 1, 7, 4, 3, 3, 7, 1, 3, 4, 7, 3, 1, 4, 7, 4, 3, 1, 4, 4, 4,\n",
       "       4, 3, 3, 7, 3, 3, 1, 1, 1, 1, 0, 3, 3, 0, 3, 6, 5, 0, 5, 0, 5, 0,\n",
       "       3, 6, 5, 6, 8, 0, 5, 6, 8, 0, 3, 6, 5, 0, 5, 6, 8, 0, 5, 0, 8, 6,\n",
       "       8, 6, 5, 6, 5, 6, 8, 6, 5, 6, 5, 6, 5, 6, 8, 0, 5, 0, 5, 0, 8, 6,\n",
       "       5, 0, 5, 0, 8, 6, 5, 6, 8, 0, 8, 0, 8, 6, 8, 6, 5, 6, 8, 6, 8, 0,\n",
       "       5, 0])"
      ]
     },
     "execution_count": 94,
     "metadata": {},
     "output_type": "execute_result"
    }
   ],
   "source": [
    "cluster_model.labels_"
   ]
  },
  {
   "cell_type": "code",
   "execution_count": 102,
   "id": "cae51b40",
   "metadata": {},
   "outputs": [],
   "source": [
    "df[\"customer_id\"]=cluster_model.labels_"
   ]
  },
  {
   "cell_type": "code",
   "execution_count": 103,
   "id": "f3c4c3de",
   "metadata": {},
   "outputs": [],
   "source": [
    "df.ignore_index=True"
   ]
  },
  {
   "cell_type": "code",
   "execution_count": 104,
   "id": "353fd7d7",
   "metadata": {},
   "outputs": [
    {
     "data": {
      "text/html": [
       "<div>\n",
       "<style scoped>\n",
       "    .dataframe tbody tr th:only-of-type {\n",
       "        vertical-align: middle;\n",
       "    }\n",
       "\n",
       "    .dataframe tbody tr th {\n",
       "        vertical-align: top;\n",
       "    }\n",
       "\n",
       "    .dataframe thead th {\n",
       "        text-align: right;\n",
       "    }\n",
       "</style>\n",
       "<table border=\"1\" class=\"dataframe\">\n",
       "  <thead>\n",
       "    <tr style=\"text-align: right;\">\n",
       "      <th></th>\n",
       "      <th>customer_id</th>\n",
       "      <th>gender</th>\n",
       "      <th>age</th>\n",
       "      <th>annual_income</th>\n",
       "      <th>spending_score</th>\n",
       "    </tr>\n",
       "  </thead>\n",
       "  <tbody>\n",
       "    <tr>\n",
       "      <th>0</th>\n",
       "      <td>7</td>\n",
       "      <td>1</td>\n",
       "      <td>19</td>\n",
       "      <td>15</td>\n",
       "      <td>39</td>\n",
       "    </tr>\n",
       "    <tr>\n",
       "      <th>1</th>\n",
       "      <td>7</td>\n",
       "      <td>1</td>\n",
       "      <td>21</td>\n",
       "      <td>15</td>\n",
       "      <td>81</td>\n",
       "    </tr>\n",
       "    <tr>\n",
       "      <th>2</th>\n",
       "      <td>9</td>\n",
       "      <td>0</td>\n",
       "      <td>20</td>\n",
       "      <td>16</td>\n",
       "      <td>6</td>\n",
       "    </tr>\n",
       "    <tr>\n",
       "      <th>3</th>\n",
       "      <td>2</td>\n",
       "      <td>0</td>\n",
       "      <td>23</td>\n",
       "      <td>16</td>\n",
       "      <td>77</td>\n",
       "    </tr>\n",
       "    <tr>\n",
       "      <th>4</th>\n",
       "      <td>9</td>\n",
       "      <td>0</td>\n",
       "      <td>31</td>\n",
       "      <td>17</td>\n",
       "      <td>40</td>\n",
       "    </tr>\n",
       "    <tr>\n",
       "      <th>...</th>\n",
       "      <td>...</td>\n",
       "      <td>...</td>\n",
       "      <td>...</td>\n",
       "      <td>...</td>\n",
       "      <td>...</td>\n",
       "    </tr>\n",
       "    <tr>\n",
       "      <th>195</th>\n",
       "      <td>6</td>\n",
       "      <td>0</td>\n",
       "      <td>35</td>\n",
       "      <td>120</td>\n",
       "      <td>79</td>\n",
       "    </tr>\n",
       "    <tr>\n",
       "      <th>196</th>\n",
       "      <td>8</td>\n",
       "      <td>0</td>\n",
       "      <td>45</td>\n",
       "      <td>126</td>\n",
       "      <td>28</td>\n",
       "    </tr>\n",
       "    <tr>\n",
       "      <th>197</th>\n",
       "      <td>0</td>\n",
       "      <td>1</td>\n",
       "      <td>32</td>\n",
       "      <td>126</td>\n",
       "      <td>74</td>\n",
       "    </tr>\n",
       "    <tr>\n",
       "      <th>198</th>\n",
       "      <td>5</td>\n",
       "      <td>1</td>\n",
       "      <td>32</td>\n",
       "      <td>137</td>\n",
       "      <td>18</td>\n",
       "    </tr>\n",
       "    <tr>\n",
       "      <th>199</th>\n",
       "      <td>0</td>\n",
       "      <td>1</td>\n",
       "      <td>30</td>\n",
       "      <td>137</td>\n",
       "      <td>83</td>\n",
       "    </tr>\n",
       "  </tbody>\n",
       "</table>\n",
       "<p>200 rows × 5 columns</p>\n",
       "</div>"
      ],
      "text/plain": [
       "     customer_id  gender  age  annual_income  spending_score\n",
       "0              7       1   19             15              39\n",
       "1              7       1   21             15              81\n",
       "2              9       0   20             16               6\n",
       "3              2       0   23             16              77\n",
       "4              9       0   31             17              40\n",
       "..           ...     ...  ...            ...             ...\n",
       "195            6       0   35            120              79\n",
       "196            8       0   45            126              28\n",
       "197            0       1   32            126              74\n",
       "198            5       1   32            137              18\n",
       "199            0       1   30            137              83\n",
       "\n",
       "[200 rows x 5 columns]"
      ]
     },
     "execution_count": 104,
     "metadata": {},
     "output_type": "execute_result"
    }
   ],
   "source": [
    "df"
   ]
  },
  {
   "cell_type": "code",
   "execution_count": 109,
   "id": "95a0d888",
   "metadata": {},
   "outputs": [
    {
     "data": {
      "text/plain": [
       "<Figure size 1000x900 with 0 Axes>"
      ]
     },
     "execution_count": 109,
     "metadata": {},
     "output_type": "execute_result"
    },
    {
     "data": {
      "text/plain": [
       "<Figure size 1000x900 with 0 Axes>"
      ]
     },
     "metadata": {},
     "output_type": "display_data"
    }
   ],
   "source": [
    "plt.figure(figsize=(10,9))\n"
   ]
  },
  {
   "cell_type": "code",
   "execution_count": null,
   "id": "0786d1dd",
   "metadata": {},
   "outputs": [],
   "source": []
  }
 ],
 "metadata": {
  "kernelspec": {
   "display_name": "Python 3 (ipykernel)",
   "language": "python",
   "name": "python3"
  },
  "language_info": {
   "codemirror_mode": {
    "name": "ipython",
    "version": 3
   },
   "file_extension": ".py",
   "mimetype": "text/x-python",
   "name": "python",
   "nbconvert_exporter": "python",
   "pygments_lexer": "ipython3",
   "version": "3.11.0"
  },
  "varInspector": {
   "cols": {
    "lenName": 16,
    "lenType": 16,
    "lenVar": 40
   },
   "kernels_config": {
    "python": {
     "delete_cmd_postfix": "",
     "delete_cmd_prefix": "del ",
     "library": "var_list.py",
     "varRefreshCmd": "print(var_dic_list())"
    },
    "r": {
     "delete_cmd_postfix": ") ",
     "delete_cmd_prefix": "rm(",
     "library": "var_list.r",
     "varRefreshCmd": "cat(var_dic_list()) "
    }
   },
   "types_to_exclude": [
    "module",
    "function",
    "builtin_function_or_method",
    "instance",
    "_Feature"
   ],
   "window_display": false
  }
 },
 "nbformat": 4,
 "nbformat_minor": 5
}
